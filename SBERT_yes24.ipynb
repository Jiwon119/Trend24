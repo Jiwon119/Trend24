version https://git-lfs.github.com/spec/v1
oid sha256:b38f32bbb8e6094887379335355bdc0d541e38f5a2a15c671ea9c180cf8ddb6a
size 1051883
