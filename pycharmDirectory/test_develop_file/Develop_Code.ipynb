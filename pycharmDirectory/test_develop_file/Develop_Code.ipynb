version https://git-lfs.github.com/spec/v1
oid sha256:358a542a4c67b52f1157c68fc9f83e7a0846cbeab0233b9c4df451396ffc7a61
size 378706
