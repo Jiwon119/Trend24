version https://git-lfs.github.com/spec/v1
oid sha256:f7f1265bf97b5bfdac79205a9a865b21b6035fbf6ecfbd9527b0d45f35193347
size 391032
