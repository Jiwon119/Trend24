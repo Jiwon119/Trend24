version https://git-lfs.github.com/spec/v1
oid sha256:cdc9623028c34b4ea54f8e4de36191bf605a72b7c9552e54e6a45376f06ddf49
size 173863
